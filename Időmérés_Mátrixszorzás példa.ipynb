{
 "cells": [
  {
   "attachments": {},
   "cell_type": "markdown",
   "metadata": {},
   "source": [
    "## Időmérés"
   ]
  },
  {
   "cell_type": "code",
   "execution_count": 1,
   "metadata": {},
   "outputs": [
    {
     "name": "stdout",
     "output_type": "stream",
     "text": [
      "normál idő:  5.6129 s\n",
      "process idő:  5.0625 s\n"
     ]
    }
   ],
   "source": [
    "import time\n",
    "\n",
    "kezdet1 = time.time()\n",
    "kezdet2 = time.process_time()\n",
    "\n",
    "2**1000000000\n",
    "\n",
    "vég1 = time.time()\n",
    "vég2 = time.process_time()\n",
    "\n",
    "print(f'normál idő: {(vég1-kezdet1): .4f} s')\n",
    "print(f'process idő: {(vég2-kezdet2): .4f} s')"
   ]
  },
  {
   "cell_type": "code",
   "execution_count": 5,
   "metadata": {},
   "outputs": [
    {
     "name": "stdout",
     "output_type": "stream",
     "text": [
      "659 ms ± 20.8 ms per loop (mean ± std. dev. of 7 runs, 1 loop each)\n"
     ]
    }
   ],
   "source": [
    "%%timeit    # Egész cella mérése\n",
    "a = []\n",
    "for i in range(10000000):\n",
    "    a.append(i)"
   ]
  },
  {
   "cell_type": "code",
   "execution_count": 6,
   "metadata": {},
   "outputs": [
    {
     "name": "stdout",
     "output_type": "stream",
     "text": [
      "549 ms ± 5.51 ms per loop (mean ± std. dev. of 7 runs, 1 loop each)\n"
     ]
    }
   ],
   "source": [
    "%timeit [i for i in range(10000000)]    # 1 függvény/utasítás mérése"
   ]
  },
  {
   "cell_type": "code",
   "execution_count": 4,
   "metadata": {},
   "outputs": [
    {
     "name": "stdout",
     "output_type": "stream",
     "text": [
      "6.7 ns ± 0.64 ns per loop (mean ± std. dev. of 10 runs, 100 loops each)\n",
      "4.93 ns ± 0.0919 ns per loop (mean ± std. dev. of 7 runs, 100,000,000 loops each)\n"
     ]
    },
    {
     "data": {
      "text/plain": [
       "4.9258612857166945e-09"
      ]
     },
     "execution_count": 4,
     "metadata": {},
     "output_type": "execute_result"
    }
   ],
   "source": [
    "# timeit beállításai\n",
    "\n",
    "# 10 runs (-r), 100 loops (-n) each\n",
    "%timeit -n 100 -r 10 2**10\n",
    "# don't print (-q)\n",
    "%timeit -q 2**10\n",
    "# get return value (-o)\n",
    "ret = %timeit -o 2**10\n",
    "ret.average # s"
   ]
  },
  {
   "attachments": {},
   "cell_type": "markdown",
   "metadata": {},
   "source": [
    "## Mátrix szorzó"
   ]
  },
  {
   "cell_type": "code",
   "execution_count": 7,
   "metadata": {},
   "outputs": [],
   "source": [
    "\"\"\"Importálás\"\"\"\n",
    "\n",
    "import numpy as np\n",
    "import numba as nb\n",
    "from matplotlib import pyplot as plt"
   ]
  },
  {
   "cell_type": "code",
   "execution_count": 2,
   "metadata": {},
   "outputs": [],
   "source": [
    "\"\"\"Mátrixok létrehozás\"\"\"\n",
    "\n",
    "n = 256  # méret\n",
    "a = np.random.random((n, n))\n",
    "b = np.random.random((n, n))\n",
    "\n",
    "# időméréshez:\n",
    "times = [None, None, None, None, None, None]"
   ]
  },
  {
   "cell_type": "code",
   "execution_count": 3,
   "metadata": {},
   "outputs": [
    {
     "name": "stdout",
     "output_type": "stream",
     "text": [
      "5.08 s ± 45.3 ms per loop (mean ± std. dev. of 7 runs, 1 loop each)\n"
     ]
    }
   ],
   "source": [
    "\"\"\"Natív Python\"\"\"\n",
    "\n",
    "def matmul(a, b):\n",
    "    M = a.shape[0]\n",
    "    K = a.shape[1] # = b.shape[0]\n",
    "    N = b.shape[1]\n",
    "    c = np.zeros((M, N))\n",
    "    for i in range(M):\n",
    "        for j in range(N):\n",
    "            for k in range(K):\n",
    "                c[i,j] += a[i,k] * b[k,j]\n",
    "    return c\n",
    "\n",
    "matmul(a, b)\n",
    "times[0] = %timeit -o matmul(a, b)"
   ]
  },
  {
   "cell_type": "code",
   "execution_count": 4,
   "metadata": {},
   "outputs": [
    {
     "name": "stdout",
     "output_type": "stream",
     "text": [
      "20.2 ms ± 90.9 µs per loop (mean ± std. dev. of 7 runs, 10 loops each)\n"
     ]
    }
   ],
   "source": [
    "\"\"\"Numba sima JIT fordító\"\"\"\n",
    "\n",
    "@nb.njit    # JIT dekorátor\n",
    "def matmul(a, b):\n",
    "    M = a.shape[0]\n",
    "    K = a.shape[1] # = b.shape[0]\n",
    "    N = b.shape[1]\n",
    "    c = np.zeros((M, N))\n",
    "    for i in range(M):\n",
    "        for j in range(N):\n",
    "            for k in range(K):\n",
    "                c[i,j] += a[i,k] * b[k,j]\n",
    "    return c\n",
    "\n",
    "matmul(a, b)\n",
    "times[1] = %timeit -o matmul(a, b)"
   ]
  },
  {
   "cell_type": "code",
   "execution_count": 6,
   "metadata": {},
   "outputs": [
    {
     "name": "stdout",
     "output_type": "stream",
     "text": [
      "2.75 ms ± 248 µs per loop (mean ± std. dev. of 7 runs, 100 loops each)\n"
     ]
    }
   ],
   "source": [
    "\"\"\"Numba JIT fordító beépített párhuzamosítással\"\"\"\n",
    "\n",
    "@nb.njit(parallel = True)\n",
    "def matmul(a, b):\n",
    "    M = a.shape[0]\n",
    "    K = a.shape[1] # = b.shape[0]\n",
    "    N = b.shape[1]\n",
    "    c = np.zeros((M, N))\n",
    "    for i in nb.prange(M):\n",
    "        for j in nb.prange(N):\n",
    "            for k in nb.prange(K):\n",
    "                c[i,j] += a[i,k] * b[k,j]\n",
    "    return c\n",
    "\n",
    "matmul(a, b)\n",
    "times[2] = %timeit -o matmul(a, b)"
   ]
  },
  {
   "cell_type": "code",
   "execution_count": null,
   "metadata": {},
   "outputs": [
    {
     "name": "stdout",
     "output_type": "stream",
     "text": [
      "10 ms ± 59.5 µs per loop (mean ± std. dev. of 7 runs, 100 loops each)\n"
     ]
    }
   ],
   "source": [
    "\"\"\"Numba JIT fordító késleltetésre optimalizálva\"\"\"\n",
    "\n",
    "@nb.njit\n",
    "def matmul(a, b):\n",
    "    M = a.shape[0]\n",
    "    K = a.shape[1] # = b.shape[0]\n",
    "    N = b.shape[1]\n",
    "    c = np.zeros((M, N))\n",
    "    for i in range(M):\n",
    "        for j in range(0, N, 8):\n",
    "            for k in range(K):\n",
    "                c[i,j] += a[i,k] * b[k,j]\n",
    "                c[i,j+1] += a[i,k] * b[k,j+1]\n",
    "                c[i,j+2] += a[i,k] * b[k,j+2]\n",
    "                c[i,j+3] += a[i,k] * b[k,j+3]\n",
    "                c[i,j+4] += a[i,k] * b[k,j+4]\n",
    "                c[i,j+5] += a[i,k] * b[k,j+5]\n",
    "                c[i,j+6] += a[i,k] * b[k,j+6]\n",
    "                c[i,j+7] += a[i,k] * b[k,j+7]\n",
    "    return c\n",
    "\n",
    "matmul(a, b)\n",
    "times[3] = %timeit -o matmul(a, b)"
   ]
  },
  {
   "cell_type": "code",
   "execution_count": 9,
   "metadata": {},
   "outputs": [
    {
     "name": "stdout",
     "output_type": "stream",
     "text": [
      "1.45 ms ± 41.6 µs per loop (mean ± std. dev. of 7 runs, 1,000 loops each)\n"
     ]
    }
   ],
   "source": [
    "\"\"\"Numba JIT fordító beépített párhuzamosítással és késleltetésre optimalizálva\"\"\"\n",
    "\n",
    "@nb.njit(parallel = True)\n",
    "def matmul(a, b):\n",
    "    M = a.shape[0]\n",
    "    K = a.shape[1] # = b.shape[0]\n",
    "    N = b.shape[1]\n",
    "    c = np.zeros((M, N))\n",
    "    for i in nb.prange(M):\n",
    "        for j in range(0, N, 8):\n",
    "            for k in nb.prange(K):\n",
    "                c[i,j] += a[i,k] * b[k,j]\n",
    "                c[i,j+1] += a[i,k] * b[k,j+1]\n",
    "                c[i,j+2] += a[i,k] * b[k,j+2]\n",
    "                c[i,j+3] += a[i,k] * b[k,j+3]\n",
    "                c[i,j+4] += a[i,k] * b[k,j+4]\n",
    "                c[i,j+5] += a[i,k] * b[k,j+5]\n",
    "                c[i,j+6] += a[i,k] * b[k,j+6]\n",
    "                c[i,j+7] += a[i,k] * b[k,j+7]\n",
    "    return c\n",
    "\n",
    "matmul(a, b)\n",
    "times[4] = %timeit -o matmul(a, b)"
   ]
  },
  {
   "cell_type": "code",
   "execution_count": 10,
   "metadata": {},
   "outputs": [
    {
     "name": "stdout",
     "output_type": "stream",
     "text": [
      "257 µs ± 5.72 µs per loop (mean ± std. dev. of 7 runs, 1,000 loops each)\n"
     ]
    }
   ],
   "source": [
    "\"\"\"Beépített függvény (Numpy)\"\"\"\n",
    "\n",
    "times[5] = %timeit -o np.matmul(a, b)"
   ]
  },
  {
   "cell_type": "code",
   "execution_count": 11,
   "metadata": {},
   "outputs": [
    {
     "data": {
      "text/plain": [
       "Text(0, 0.5, 'time [s]')"
      ]
     },
     "execution_count": 11,
     "metadata": {},
     "output_type": "execute_result"
    },
    {
     "data": {
      "image/png": "[encoded data removed]",
      "text/plain": [
       "<Figure size 640x480 with 1 Axes>"
      ]
     },
     "metadata": {},
     "output_type": "display_data"
    }
   ],
   "source": [
    "plt.bar(['Python', 'JIT', 'JIT\\nparallel', 'JIT\\nlow latency', 'JIT\\nparallel\\n+\\nlow latency', 'Numpy'], [t.average for t in times])\n",
    "plt.ylabel('time [s]')"
   ]
  },
  {
   "cell_type": "code",
   "execution_count": 12,
   "metadata": {},
   "outputs": [
    {
     "data": {
      "text/plain": [
       "Text(0, 0.5, 'time [s]')"
      ]
     },
     "execution_count": 12,
     "metadata": {},
     "output_type": "execute_result"
    },
    {
     "data": {
      "image/png": "[encoded data removed]",
      "text/plain": [
       "<Figure size 640x480 with 1 Axes>"
      ]
     },
     "metadata": {},
     "output_type": "display_data"
    }
   ],
   "source": [
    "plt.bar(['JIT', 'JIT\\nparallel', 'JIT\\nlow latency', 'JIT\\nparallel\\n+\\nlow latency', 'Numpy'], [t.average for t in times[1:]])\n",
    "plt.ylabel('time [s]')"
   ]
  },
  {
   "attachments": {},
   "cell_type": "markdown",
   "metadata": {},
   "source": [
    "## Tömb összeadó"
   ]
  },
  {
   "cell_type": "code",
   "execution_count": 13,
   "metadata": {},
   "outputs": [
    {
     "name": "stdout",
     "output_type": "stream",
     "text": [
      "93.2 ms ± 920 µs per loop (mean ± std. dev. of 7 runs, 10 loops each)\n",
      "60.3 ms ± 277 µs per loop (mean ± std. dev. of 7 runs, 10 loops each)\n",
      "732 µs ± 1.54 µs per loop (mean ± std. dev. of 7 runs, 1,000 loops each)\n",
      "85.5 µs ± 2.87 µs per loop (mean ± std. dev. of 7 runs, 10,000 loops each)\n",
      "117 µs ± 4.27 µs per loop (mean ± std. dev. of 7 runs, 10,000 loops each)\n",
      "55.5 µs ± 823 ns per loop (mean ± std. dev. of 7 runs, 10,000 loops each)\n",
      "429 µs ± 43.2 µs per loop (mean ± std. dev. of 7 runs, 1,000 loops each)\n"
     ]
    }
   ],
   "source": [
    "# Importálás\n",
    "\n",
    "import numpy as np\n",
    "import numba as nb\n",
    "from matplotlib import pyplot as plt\n",
    "\n",
    "# Tömbök létrehozása\n",
    "\n",
    "n = 2**20 # kb 1 000 000\n",
    "a = np.random.random((n))\n",
    "times = [None, None, None, None, None, None, None]\n",
    "\n",
    "# Natív python\n",
    "\n",
    "def my_sum(a):\n",
    "    ret = 0.0\n",
    "    for i in range(len(a)):\n",
    "        ret += a[i]\n",
    "    return ret\n",
    "\n",
    "times[0] = %timeit -o my_sum(a)\n",
    "times[1] = %timeit -o sum(a)    # beépített függvény\n",
    "\n",
    "# Numba JIT fordító\n",
    "\n",
    "@nb.njit\n",
    "def my_sum(a):\n",
    "    ret = 0.0\n",
    "    for i in range(len(a)):\n",
    "        ret += a[i]\n",
    "    return ret\n",
    "\n",
    "my_sum(a)\n",
    "times[2] = %timeit -o my_sum(a)\n",
    "\n",
    "# Numba JIT fordító beépített párhuzamosítással\n",
    "\n",
    "@nb.njit(parallel=True)\n",
    "def my_sum(a):\n",
    "    ret = 0.0\n",
    "    for i in nb.prange(len(a)):\n",
    "        ret += a[i]\n",
    "    return ret\n",
    "\n",
    "my_sum(a)\n",
    "times[3] = %timeit -o my_sum(a)\n",
    "\n",
    "# Numba JIT fordító késleltetésre optimalizálva\n",
    "\n",
    "@nb.njit()\n",
    "def my_sum(a):\n",
    "    ret0 = ret1 = ret2 = ret3 = ret4 = ret5 = ret6 = ret7 = 0.0\n",
    "    for i in range(int(len(a)/8)):\n",
    "        j = 8*i\n",
    "        ret0 += a[j]\n",
    "        ret1 += a[j+1]\n",
    "        ret2 += a[j+2]\n",
    "        ret3 += a[j+3]\n",
    "        ret4 += a[j+4]\n",
    "        ret5 += a[j+5]\n",
    "        ret6 += a[j+6]\n",
    "        ret7 += a[j+7]\n",
    "    return (ret0 + ret1 +ret2 +ret3 +ret4 +ret5 +ret6 + ret7)\n",
    "\n",
    "my_sum(a)\n",
    "times[4] = %timeit -o my_sum(a)\n",
    "\n",
    "# Numba JIT fordító beépített párhuzamosítással és késleltetésre optimalizálva\n",
    "\n",
    "@nb.njit(parallel=True)\n",
    "def my_sum(a):\n",
    "    ret0 = ret1 = ret2 = ret3 = ret4 = ret5 = ret6 = ret7 = 0.0\n",
    "    for i in nb.prange(int(len(a)/8)):\n",
    "        j = 8*i\n",
    "        ret0 += a[j]\n",
    "        ret1 += a[j+1]\n",
    "        ret2 += a[j+2]\n",
    "        ret3 += a[j+3]\n",
    "        ret4 += a[j+4]\n",
    "        ret5 += a[j+5]\n",
    "        ret6 += a[j+6]\n",
    "        ret7 += a[j+7]\n",
    "    return (ret0 + ret1 +ret2 +ret3 +ret4 +ret5 +ret6 + ret7)\n",
    "\n",
    "my_sum(a)\n",
    "times[5] = %timeit -o my_sum(a)\n",
    "\n",
    "# Numpy beépített függvény\n",
    "\n",
    "times[6] = %timeit -o np.sum(a)"
   ]
  },
  {
   "cell_type": "code",
   "execution_count": 14,
   "metadata": {},
   "outputs": [
    {
     "data": {
      "text/plain": [
       "Text(0, 0.5, 'time [s]')"
      ]
     },
     "execution_count": 14,
     "metadata": {},
     "output_type": "execute_result"
    },
    {
     "data": {
      "image/png": "[encoded data removed]",
      "text/plain": [
       "<Figure size 640x480 with 1 Axes>"
      ]
     },
     "metadata": {},
     "output_type": "display_data"
    }
   ],
   "source": [
    "plt.bar(['Python', 'Python\\nsum', 'JIT', 'JIT\\nparallel', 'JIT\\nlow\\nlatency', 'JIT\\nparallel\\n+\\nlow latency', 'Numpy'], [t.average for t in times])\n",
    "plt.ylabel('time [s]')"
   ]
  },
  {
   "cell_type": "code",
   "execution_count": 15,
   "metadata": {},
   "outputs": [
    {
     "data": {
      "text/plain": [
       "Text(0, 0.5, 'time [s]')"
      ]
     },
     "execution_count": 15,
     "metadata": {},
     "output_type": "execute_result"
    },
    {
     "data": {
      "image/png": "[encoded data removed]",
      "text/plain": [
       "<Figure size 640x480 with 1 Axes>"
      ]
     },
     "metadata": {},
     "output_type": "display_data"
    }
   ],
   "source": [
    "plt.bar(['JIT', 'JIT\\nparallel', 'JIT\\nlow latency', 'JIT\\nparallel\\n+\\nlow latency', 'Numpy'], [t.average for t in times[2:]])\n",
    "plt.ylabel('time [s]')"
   ]
  },
  {
   "attachments": {},
   "cell_type": "markdown",
   "metadata": {},
   "source": [
    "## Cache latency\n",
    "Cache Size:\n",
    "* L1: 0.5 MB - 64 kB/core\n",
    "* L2: 4.0 MB - 512 kB/core\n",
    "* L3: 16 MB"
   ]
  },
  {
   "cell_type": "code",
   "execution_count": 8,
   "metadata": {},
   "outputs": [],
   "source": [
    "import numpy as np\n",
    "from matplotlib import pyplot as plt"
   ]
  },
  {
   "cell_type": "code",
   "execution_count": 9,
   "metadata": {},
   "outputs": [
    {
     "name": "stdout",
     "output_type": "stream",
     "text": [
      "n=16777216,   log_2(n)= 24.00,    8587.1520 [us] ( 0.51 [ns/n])                             \r"
     ]
    }
   ],
   "source": [
    "N = []\n",
    "times = []\n",
    "\n",
    "for n in np.linspace(3, 10, 30):\n",
    "    n = int(2**n)\n",
    "    a = np.random.random((n))\n",
    "    b = np.random.random((n))\n",
    "    time = %timeit -o -q -r 10 -n 100000 np.matmul(a, b)\n",
    "    print(f'{n=},   log_2(n)={np.log2(n): .2f},   {1e6*time.average: .4f} [us] ({1e9*time.average/n: .2f} [ns/n])                             ', end='\\r')\n",
    "    times.append(time.average)\n",
    "    N.append(n)\n",
    "\n",
    "for n in np.linspace(10, 14, 20):\n",
    "    n = int(2**n)\n",
    "    a = np.random.random((n))\n",
    "    b = np.random.random((n))\n",
    "    time = %timeit -o -q -r 10 -n 1000 np.matmul(a, b)\n",
    "    print(f'{n=},   log_2(n)={np.log2(n): .2f},   {1e6*time.average: .4f} [us] ({1e9*time.average/n: .2f} [ns/n])                             ', end='\\r')\n",
    "    times.append(time.average)\n",
    "    N.append(n)\n",
    "\n",
    "for n in np.linspace(14, 18, 20):\n",
    "    n = int(2**n)\n",
    "    a = np.random.random((n))\n",
    "    b = np.random.random((n))\n",
    "    time = %timeit -o -q -r 10 -n 100 np.matmul(a, b)\n",
    "    print(f'{n=},   log_2(n)={np.log2(n): .2f},   {1e6*time.average: .4f} [us] ({1e9*time.average/n: .2f} [ns/n])                             ', end='\\r')\n",
    "    times.append(time.average)\n",
    "    N.append(n)\n",
    "\n",
    "for n in np.linspace(18, 24, 50):\n",
    "    n = int(2**n)\n",
    "    a = np.random.random((n))\n",
    "    b = np.random.random((n))\n",
    "    time = %timeit -o -q -r 10 -n 10 np.matmul(a, b)\n",
    "    print(f'{n=},   log_2(n)={np.log2(n): .2f},   {1e6*time.average: .4f} [us] ({1e9*time.average/n: .2f} [ns/n])                             ', end='\\r')\n",
    "    times.append(time.average)\n",
    "    N.append(n)"
   ]
  },
  {
   "cell_type": "code",
   "execution_count": 10,
   "metadata": {},
   "outputs": [
    {
     "data": {
      "image/png": "[encoded data removed]",
      "text/plain": [
       "<Figure size 640x480 with 1 Axes>"
      ]
     },
     "metadata": {},
     "output_type": "display_data"
    }
   ],
   "source": [
    "#cache = [64e3, 512e3, 16e6] # [Byte/core]\n",
    "#limits = [np.log2(c/8/8) for c in cache]\n",
    "#for i, (c, l) in enumerate(zip(cache, limits)):\n",
    "#    print(f'L{i+1} cache: {c: .0f} Bytes --> n ={l: .2f}')\n",
    "\n",
    "plt.scatter(N, times, s=10, color='b')\n",
    "plt.xscale('log', base=2)\n",
    "plt.yscale('log', base=10)\n",
    "plt.xlabel('vector size')\n",
    "plt.ylabel('runtime [s]')\n",
    "#plt.axvline(x=2**limits[0], c='black', linewidth=1)\n",
    "#plt.axvline(x=2**limits[1], c='black', linewidth=1)\n",
    "#plt.axvline(x=2**limits[2], c='black', linewidth=1)\n",
    "\n",
    "plt.show()"
   ]
  },
  {
   "cell_type": "code",
   "execution_count": 18,
   "metadata": {},
   "outputs": [
    {
     "data": {
      "image/png": "[encoded data removed]",
      "text/plain": [
       "<Figure size 640x480 with 1 Axes>"
      ]
     },
     "metadata": {},
     "output_type": "display_data"
    }
   ],
   "source": [
    "import numpy as np\n",
    "import csv\n",
    "from matplotlib import pyplot as plt\n",
    "\n",
    "# Open the CSV file for reading\n",
    "with open('dot_product_time_maxopt.csv', 'r') as file:\n",
    "    reader = csv.reader(file) # Create a CSV reader object\n",
    "    header = next(reader) # Read the header row\n",
    "\n",
    "    # Read the data rows and store them in NumPy arrays\n",
    "    array_sizes1 = np.array([])\n",
    "    run_times1 = np.array([])\n",
    "    for row in reader:\n",
    "        array_sizes1 = np.append(array_sizes1, float(row[0]))\n",
    "        run_times1 = np.append(run_times1, float(row[1]))\n",
    "\n",
    "# Open the CSV file for reading\n",
    "with open('dot_product_time_normal.csv', 'r') as file:\n",
    "    reader = csv.reader(file) # Create a CSV reader object\n",
    "    header = next(reader) # Read the header row\n",
    "\n",
    "    # Read the data rows and store them in NumPy arrays\n",
    "    array_sizes2 = np.array([])\n",
    "    run_times2 = np.array([])\n",
    "    for row in reader:\n",
    "        array_sizes2 = np.append(array_sizes2, float(row[0]))\n",
    "        run_times2 = np.append(run_times2, float(row[1]))\n",
    "\n",
    "plt.scatter(N, times, label='numpy', s=10, color='b')\n",
    "plt.scatter(array_sizes1, run_times1, label='favor speed', s=10, color='r')\n",
    "plt.scatter(array_sizes2, run_times2, label='normal', s=10, color='g')\n",
    "plt.xscale('log', base=2)\n",
    "plt.yscale('log', base=10)\n",
    "plt.xlabel('vector size')\n",
    "plt.ylabel('runtime [s]')\n",
    "plt.legend()\n",
    "\n",
    "plt.show()"
   ]
  }
 ],
 "metadata": {
  "kernelspec": {
   "display_name": "Python 3",
   "language": "python",
   "name": "python3"
  },
  "language_info": {
   "codemirror_mode": {
    "name": "ipython",
    "version": 3
   },
   "file_extension": ".py",
   "mimetype": "text/x-python",
   "name": "python",
   "nbconvert_exporter": "python",
   "pygments_lexer": "ipython3",
   "version": "3.10.11"
  },
  "orig_nbformat": 4
 },
 "nbformat": 4,
 "nbformat_minor": 2
}
